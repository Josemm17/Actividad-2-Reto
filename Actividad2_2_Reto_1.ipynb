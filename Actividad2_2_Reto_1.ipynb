{
  "nbformat": 4,
  "nbformat_minor": 0,
  "metadata": {
    "colab": {
      "provenance": [],
      "authorship_tag": "ABX9TyOLpZ21MzIZ4tjzsWpoSRkZ",
      "include_colab_link": true
    },
    "kernelspec": {
      "name": "python3",
      "display_name": "Python 3"
    },
    "language_info": {
      "name": "python"
    }
  },
  "cells": [
    {
      "cell_type": "markdown",
      "metadata": {
        "id": "view-in-github",
        "colab_type": "text"
      },
      "source": [
        "<a href=\"https://colab.research.google.com/github/Josemm17/Actividad-2-Reto/blob/main/Actividad2_2_Reto_1.ipynb\" target=\"_parent\"><img src=\"https://colab.research.google.com/assets/colab-badge.svg\" alt=\"Open In Colab\"/></a>"
      ]
    },
    {
      "cell_type": "code",
      "execution_count": null,
      "metadata": {
        "id": "ANSjAEuKNrrt"
      },
      "outputs": [],
      "source": [
        "import pandas as pd"
      ]
    },
    {
      "cell_type": "code",
      "source": [
        "df = pd.read_csv('inmuebles2.csv')"
      ],
      "metadata": {
        "id": "BmjSJumKNwfP"
      },
      "execution_count": null,
      "outputs": []
    },
    {
      "cell_type": "code",
      "source": [
        "#a) Eliminar la fila “0” de “Unnamed” y Eliminar la columna “0” de “Referencia”\n",
        "df= pd.read_csv('inmuebles2.csv', skiprows=1)\n",
        "df= df.drop(['0','Referencia'], axis=1)\n",
        "df"
      ],
      "metadata": {
        "colab": {
          "base_uri": "https://localhost:8080/",
          "height": 424
        },
        "collapsed": true,
        "id": "0jh2NmRdN6B-",
        "outputId": "6e7ae53a-fe4c-4b0e-cbbe-15326e1a8342"
      },
      "execution_count": 18,
      "outputs": [
        {
          "output_type": "execute_result",
          "data": {
            "text/plain": [
              "               Fecha Alta        Tipo Operación  Provincia  Superficie  \\\n",
              "0     2004-01-01 00:00:00     Parking  Alquiler     Lleida       291.0   \n",
              "1     2004-01-01 00:00:00       Local     Venta     Girona       185.0   \n",
              "2     2004-01-01 00:00:00     Oficina  Alquiler     Girona        82.0   \n",
              "3     2004-01-02 00:00:00     Parking  Alquiler     Girona       285.0   \n",
              "4     2004-01-02 00:00:00       Suelo     Venta  Tarragona       152.0   \n",
              "...                   ...         ...       ...        ...         ...   \n",
              "3332  2007-04-29 00:00:00  Industrial  Alquiler     Lleida       221.0   \n",
              "3333  2007-04-29 00:00:00        Piso  Alquiler     Girona        55.0   \n",
              "3334  2007-04-30 00:00:00       Suelo     Venta  Tarragona        78.0   \n",
              "3335  2007-04-30 00:00:00        Piso  Alquiler  Barcelona        88.0   \n",
              "3336  2007-04-30 00:00:00     Parking     Venta     Lleida         NaN   \n",
              "\n",
              "      Precio Venta          Fecha Venta Vendedor  \n",
              "0        2133903.0  2004-06-19 00:00:00   Carmen  \n",
              "1        1945424.0  2004-04-19 00:00:00    Pedro  \n",
              "2              NaN  2004-11-08 00:00:00  Joaquín  \n",
              "3              NaN  2004-04-27 00:00:00    Jesús  \n",
              "4         185000.0  2004-07-10 00:00:00    María  \n",
              "...            ...                  ...      ...  \n",
              "3332     1450644.0                  NaN      NaN  \n",
              "3333      454080.0                  NaN      NaN  \n",
              "3334      740688.0                  NaN      NaN  \n",
              "3335      397408.0                  NaN      NaN  \n",
              "3336     2140712.0                  NaN      NaN  \n",
              "\n",
              "[3337 rows x 8 columns]"
            ],
            "text/html": [
              "\n",
              "  <div id=\"df-90feb0ec-fff4-4b84-a002-879597f1d9f5\" class=\"colab-df-container\">\n",
              "    <div>\n",
              "<style scoped>\n",
              "    .dataframe tbody tr th:only-of-type {\n",
              "        vertical-align: middle;\n",
              "    }\n",
              "\n",
              "    .dataframe tbody tr th {\n",
              "        vertical-align: top;\n",
              "    }\n",
              "\n",
              "    .dataframe thead th {\n",
              "        text-align: right;\n",
              "    }\n",
              "</style>\n",
              "<table border=\"1\" class=\"dataframe\">\n",
              "  <thead>\n",
              "    <tr style=\"text-align: right;\">\n",
              "      <th></th>\n",
              "      <th>Fecha Alta</th>\n",
              "      <th>Tipo</th>\n",
              "      <th>Operación</th>\n",
              "      <th>Provincia</th>\n",
              "      <th>Superficie</th>\n",
              "      <th>Precio Venta</th>\n",
              "      <th>Fecha Venta</th>\n",
              "      <th>Vendedor</th>\n",
              "    </tr>\n",
              "  </thead>\n",
              "  <tbody>\n",
              "    <tr>\n",
              "      <th>0</th>\n",
              "      <td>2004-01-01 00:00:00</td>\n",
              "      <td>Parking</td>\n",
              "      <td>Alquiler</td>\n",
              "      <td>Lleida</td>\n",
              "      <td>291.0</td>\n",
              "      <td>2133903.0</td>\n",
              "      <td>2004-06-19 00:00:00</td>\n",
              "      <td>Carmen</td>\n",
              "    </tr>\n",
              "    <tr>\n",
              "      <th>1</th>\n",
              "      <td>2004-01-01 00:00:00</td>\n",
              "      <td>Local</td>\n",
              "      <td>Venta</td>\n",
              "      <td>Girona</td>\n",
              "      <td>185.0</td>\n",
              "      <td>1945424.0</td>\n",
              "      <td>2004-04-19 00:00:00</td>\n",
              "      <td>Pedro</td>\n",
              "    </tr>\n",
              "    <tr>\n",
              "      <th>2</th>\n",
              "      <td>2004-01-01 00:00:00</td>\n",
              "      <td>Oficina</td>\n",
              "      <td>Alquiler</td>\n",
              "      <td>Girona</td>\n",
              "      <td>82.0</td>\n",
              "      <td>NaN</td>\n",
              "      <td>2004-11-08 00:00:00</td>\n",
              "      <td>Joaquín</td>\n",
              "    </tr>\n",
              "    <tr>\n",
              "      <th>3</th>\n",
              "      <td>2004-01-02 00:00:00</td>\n",
              "      <td>Parking</td>\n",
              "      <td>Alquiler</td>\n",
              "      <td>Girona</td>\n",
              "      <td>285.0</td>\n",
              "      <td>NaN</td>\n",
              "      <td>2004-04-27 00:00:00</td>\n",
              "      <td>Jesús</td>\n",
              "    </tr>\n",
              "    <tr>\n",
              "      <th>4</th>\n",
              "      <td>2004-01-02 00:00:00</td>\n",
              "      <td>Suelo</td>\n",
              "      <td>Venta</td>\n",
              "      <td>Tarragona</td>\n",
              "      <td>152.0</td>\n",
              "      <td>185000.0</td>\n",
              "      <td>2004-07-10 00:00:00</td>\n",
              "      <td>María</td>\n",
              "    </tr>\n",
              "    <tr>\n",
              "      <th>...</th>\n",
              "      <td>...</td>\n",
              "      <td>...</td>\n",
              "      <td>...</td>\n",
              "      <td>...</td>\n",
              "      <td>...</td>\n",
              "      <td>...</td>\n",
              "      <td>...</td>\n",
              "      <td>...</td>\n",
              "    </tr>\n",
              "    <tr>\n",
              "      <th>3332</th>\n",
              "      <td>2007-04-29 00:00:00</td>\n",
              "      <td>Industrial</td>\n",
              "      <td>Alquiler</td>\n",
              "      <td>Lleida</td>\n",
              "      <td>221.0</td>\n",
              "      <td>1450644.0</td>\n",
              "      <td>NaN</td>\n",
              "      <td>NaN</td>\n",
              "    </tr>\n",
              "    <tr>\n",
              "      <th>3333</th>\n",
              "      <td>2007-04-29 00:00:00</td>\n",
              "      <td>Piso</td>\n",
              "      <td>Alquiler</td>\n",
              "      <td>Girona</td>\n",
              "      <td>55.0</td>\n",
              "      <td>454080.0</td>\n",
              "      <td>NaN</td>\n",
              "      <td>NaN</td>\n",
              "    </tr>\n",
              "    <tr>\n",
              "      <th>3334</th>\n",
              "      <td>2007-04-30 00:00:00</td>\n",
              "      <td>Suelo</td>\n",
              "      <td>Venta</td>\n",
              "      <td>Tarragona</td>\n",
              "      <td>78.0</td>\n",
              "      <td>740688.0</td>\n",
              "      <td>NaN</td>\n",
              "      <td>NaN</td>\n",
              "    </tr>\n",
              "    <tr>\n",
              "      <th>3335</th>\n",
              "      <td>2007-04-30 00:00:00</td>\n",
              "      <td>Piso</td>\n",
              "      <td>Alquiler</td>\n",
              "      <td>Barcelona</td>\n",
              "      <td>88.0</td>\n",
              "      <td>397408.0</td>\n",
              "      <td>NaN</td>\n",
              "      <td>NaN</td>\n",
              "    </tr>\n",
              "    <tr>\n",
              "      <th>3336</th>\n",
              "      <td>2007-04-30 00:00:00</td>\n",
              "      <td>Parking</td>\n",
              "      <td>Venta</td>\n",
              "      <td>Lleida</td>\n",
              "      <td>NaN</td>\n",
              "      <td>2140712.0</td>\n",
              "      <td>NaN</td>\n",
              "      <td>NaN</td>\n",
              "    </tr>\n",
              "  </tbody>\n",
              "</table>\n",
              "<p>3337 rows × 8 columns</p>\n",
              "</div>\n",
              "    <div class=\"colab-df-buttons\">\n",
              "\n",
              "  <div class=\"colab-df-container\">\n",
              "    <button class=\"colab-df-convert\" onclick=\"convertToInteractive('df-90feb0ec-fff4-4b84-a002-879597f1d9f5')\"\n",
              "            title=\"Convert this dataframe to an interactive table.\"\n",
              "            style=\"display:none;\">\n",
              "\n",
              "  <svg xmlns=\"http://www.w3.org/2000/svg\" height=\"24px\" viewBox=\"0 -960 960 960\">\n",
              "    <path d=\"M120-120v-720h720v720H120Zm60-500h600v-160H180v160Zm220 220h160v-160H400v160Zm0 220h160v-160H400v160ZM180-400h160v-160H180v160Zm440 0h160v-160H620v160ZM180-180h160v-160H180v160Zm440 0h160v-160H620v160Z\"/>\n",
              "  </svg>\n",
              "    </button>\n",
              "\n",
              "  <style>\n",
              "    .colab-df-container {\n",
              "      display:flex;\n",
              "      gap: 12px;\n",
              "    }\n",
              "\n",
              "    .colab-df-convert {\n",
              "      background-color: #E8F0FE;\n",
              "      border: none;\n",
              "      border-radius: 50%;\n",
              "      cursor: pointer;\n",
              "      display: none;\n",
              "      fill: #1967D2;\n",
              "      height: 32px;\n",
              "      padding: 0 0 0 0;\n",
              "      width: 32px;\n",
              "    }\n",
              "\n",
              "    .colab-df-convert:hover {\n",
              "      background-color: #E2EBFA;\n",
              "      box-shadow: 0px 1px 2px rgba(60, 64, 67, 0.3), 0px 1px 3px 1px rgba(60, 64, 67, 0.15);\n",
              "      fill: #174EA6;\n",
              "    }\n",
              "\n",
              "    .colab-df-buttons div {\n",
              "      margin-bottom: 4px;\n",
              "    }\n",
              "\n",
              "    [theme=dark] .colab-df-convert {\n",
              "      background-color: #3B4455;\n",
              "      fill: #D2E3FC;\n",
              "    }\n",
              "\n",
              "    [theme=dark] .colab-df-convert:hover {\n",
              "      background-color: #434B5C;\n",
              "      box-shadow: 0px 1px 3px 1px rgba(0, 0, 0, 0.15);\n",
              "      filter: drop-shadow(0px 1px 2px rgba(0, 0, 0, 0.3));\n",
              "      fill: #FFFFFF;\n",
              "    }\n",
              "  </style>\n",
              "\n",
              "    <script>\n",
              "      const buttonEl =\n",
              "        document.querySelector('#df-90feb0ec-fff4-4b84-a002-879597f1d9f5 button.colab-df-convert');\n",
              "      buttonEl.style.display =\n",
              "        google.colab.kernel.accessAllowed ? 'block' : 'none';\n",
              "\n",
              "      async function convertToInteractive(key) {\n",
              "        const element = document.querySelector('#df-90feb0ec-fff4-4b84-a002-879597f1d9f5');\n",
              "        const dataTable =\n",
              "          await google.colab.kernel.invokeFunction('convertToInteractive',\n",
              "                                                    [key], {});\n",
              "        if (!dataTable) return;\n",
              "\n",
              "        const docLinkHtml = 'Like what you see? Visit the ' +\n",
              "          '<a target=\"_blank\" href=https://colab.research.google.com/notebooks/data_table.ipynb>data table notebook</a>'\n",
              "          + ' to learn more about interactive tables.';\n",
              "        element.innerHTML = '';\n",
              "        dataTable['output_type'] = 'display_data';\n",
              "        await google.colab.output.renderOutput(dataTable, element);\n",
              "        const docLink = document.createElement('div');\n",
              "        docLink.innerHTML = docLinkHtml;\n",
              "        element.appendChild(docLink);\n",
              "      }\n",
              "    </script>\n",
              "  </div>\n",
              "\n",
              "\n",
              "<div id=\"df-56961862-434d-4eef-b449-f421598186f2\">\n",
              "  <button class=\"colab-df-quickchart\" onclick=\"quickchart('df-56961862-434d-4eef-b449-f421598186f2')\"\n",
              "            title=\"Suggest charts\"\n",
              "            style=\"display:none;\">\n",
              "\n",
              "<svg xmlns=\"http://www.w3.org/2000/svg\" height=\"24px\"viewBox=\"0 0 24 24\"\n",
              "     width=\"24px\">\n",
              "    <g>\n",
              "        <path d=\"M19 3H5c-1.1 0-2 .9-2 2v14c0 1.1.9 2 2 2h14c1.1 0 2-.9 2-2V5c0-1.1-.9-2-2-2zM9 17H7v-7h2v7zm4 0h-2V7h2v10zm4 0h-2v-4h2v4z\"/>\n",
              "    </g>\n",
              "</svg>\n",
              "  </button>\n",
              "\n",
              "<style>\n",
              "  .colab-df-quickchart {\n",
              "      --bg-color: #E8F0FE;\n",
              "      --fill-color: #1967D2;\n",
              "      --hover-bg-color: #E2EBFA;\n",
              "      --hover-fill-color: #174EA6;\n",
              "      --disabled-fill-color: #AAA;\n",
              "      --disabled-bg-color: #DDD;\n",
              "  }\n",
              "\n",
              "  [theme=dark] .colab-df-quickchart {\n",
              "      --bg-color: #3B4455;\n",
              "      --fill-color: #D2E3FC;\n",
              "      --hover-bg-color: #434B5C;\n",
              "      --hover-fill-color: #FFFFFF;\n",
              "      --disabled-bg-color: #3B4455;\n",
              "      --disabled-fill-color: #666;\n",
              "  }\n",
              "\n",
              "  .colab-df-quickchart {\n",
              "    background-color: var(--bg-color);\n",
              "    border: none;\n",
              "    border-radius: 50%;\n",
              "    cursor: pointer;\n",
              "    display: none;\n",
              "    fill: var(--fill-color);\n",
              "    height: 32px;\n",
              "    padding: 0;\n",
              "    width: 32px;\n",
              "  }\n",
              "\n",
              "  .colab-df-quickchart:hover {\n",
              "    background-color: var(--hover-bg-color);\n",
              "    box-shadow: 0 1px 2px rgba(60, 64, 67, 0.3), 0 1px 3px 1px rgba(60, 64, 67, 0.15);\n",
              "    fill: var(--button-hover-fill-color);\n",
              "  }\n",
              "\n",
              "  .colab-df-quickchart-complete:disabled,\n",
              "  .colab-df-quickchart-complete:disabled:hover {\n",
              "    background-color: var(--disabled-bg-color);\n",
              "    fill: var(--disabled-fill-color);\n",
              "    box-shadow: none;\n",
              "  }\n",
              "\n",
              "  .colab-df-spinner {\n",
              "    border: 2px solid var(--fill-color);\n",
              "    border-color: transparent;\n",
              "    border-bottom-color: var(--fill-color);\n",
              "    animation:\n",
              "      spin 1s steps(1) infinite;\n",
              "  }\n",
              "\n",
              "  @keyframes spin {\n",
              "    0% {\n",
              "      border-color: transparent;\n",
              "      border-bottom-color: var(--fill-color);\n",
              "      border-left-color: var(--fill-color);\n",
              "    }\n",
              "    20% {\n",
              "      border-color: transparent;\n",
              "      border-left-color: var(--fill-color);\n",
              "      border-top-color: var(--fill-color);\n",
              "    }\n",
              "    30% {\n",
              "      border-color: transparent;\n",
              "      border-left-color: var(--fill-color);\n",
              "      border-top-color: var(--fill-color);\n",
              "      border-right-color: var(--fill-color);\n",
              "    }\n",
              "    40% {\n",
              "      border-color: transparent;\n",
              "      border-right-color: var(--fill-color);\n",
              "      border-top-color: var(--fill-color);\n",
              "    }\n",
              "    60% {\n",
              "      border-color: transparent;\n",
              "      border-right-color: var(--fill-color);\n",
              "    }\n",
              "    80% {\n",
              "      border-color: transparent;\n",
              "      border-right-color: var(--fill-color);\n",
              "      border-bottom-color: var(--fill-color);\n",
              "    }\n",
              "    90% {\n",
              "      border-color: transparent;\n",
              "      border-bottom-color: var(--fill-color);\n",
              "    }\n",
              "  }\n",
              "</style>\n",
              "\n",
              "  <script>\n",
              "    async function quickchart(key) {\n",
              "      const quickchartButtonEl =\n",
              "        document.querySelector('#' + key + ' button');\n",
              "      quickchartButtonEl.disabled = true;  // To prevent multiple clicks.\n",
              "      quickchartButtonEl.classList.add('colab-df-spinner');\n",
              "      try {\n",
              "        const charts = await google.colab.kernel.invokeFunction(\n",
              "            'suggestCharts', [key], {});\n",
              "      } catch (error) {\n",
              "        console.error('Error during call to suggestCharts:', error);\n",
              "      }\n",
              "      quickchartButtonEl.classList.remove('colab-df-spinner');\n",
              "      quickchartButtonEl.classList.add('colab-df-quickchart-complete');\n",
              "    }\n",
              "    (() => {\n",
              "      let quickchartButtonEl =\n",
              "        document.querySelector('#df-56961862-434d-4eef-b449-f421598186f2 button');\n",
              "      quickchartButtonEl.style.display =\n",
              "        google.colab.kernel.accessAllowed ? 'block' : 'none';\n",
              "    })();\n",
              "  </script>\n",
              "</div>\n",
              "\n",
              "  <div id=\"id_5cb2a451-83b3-49fa-a2f6-2524c4f0c73b\">\n",
              "    <style>\n",
              "      .colab-df-generate {\n",
              "        background-color: #E8F0FE;\n",
              "        border: none;\n",
              "        border-radius: 50%;\n",
              "        cursor: pointer;\n",
              "        display: none;\n",
              "        fill: #1967D2;\n",
              "        height: 32px;\n",
              "        padding: 0 0 0 0;\n",
              "        width: 32px;\n",
              "      }\n",
              "\n",
              "      .colab-df-generate:hover {\n",
              "        background-color: #E2EBFA;\n",
              "        box-shadow: 0px 1px 2px rgba(60, 64, 67, 0.3), 0px 1px 3px 1px rgba(60, 64, 67, 0.15);\n",
              "        fill: #174EA6;\n",
              "      }\n",
              "\n",
              "      [theme=dark] .colab-df-generate {\n",
              "        background-color: #3B4455;\n",
              "        fill: #D2E3FC;\n",
              "      }\n",
              "\n",
              "      [theme=dark] .colab-df-generate:hover {\n",
              "        background-color: #434B5C;\n",
              "        box-shadow: 0px 1px 3px 1px rgba(0, 0, 0, 0.15);\n",
              "        filter: drop-shadow(0px 1px 2px rgba(0, 0, 0, 0.3));\n",
              "        fill: #FFFFFF;\n",
              "      }\n",
              "    </style>\n",
              "    <button class=\"colab-df-generate\" onclick=\"generateWithVariable('dfa')\"\n",
              "            title=\"Generate code using this dataframe.\"\n",
              "            style=\"display:none;\">\n",
              "\n",
              "  <svg xmlns=\"http://www.w3.org/2000/svg\" height=\"24px\"viewBox=\"0 0 24 24\"\n",
              "       width=\"24px\">\n",
              "    <path d=\"M7,19H8.4L18.45,9,17,7.55,7,17.6ZM5,21V16.75L18.45,3.32a2,2,0,0,1,2.83,0l1.4,1.43a1.91,1.91,0,0,1,.58,1.4,1.91,1.91,0,0,1-.58,1.4L9.25,21ZM18.45,9,17,7.55Zm-12,3A5.31,5.31,0,0,0,4.9,8.1,5.31,5.31,0,0,0,1,6.5,5.31,5.31,0,0,0,4.9,4.9,5.31,5.31,0,0,0,6.5,1,5.31,5.31,0,0,0,8.1,4.9,5.31,5.31,0,0,0,12,6.5,5.46,5.46,0,0,0,6.5,12Z\"/>\n",
              "  </svg>\n",
              "    </button>\n",
              "    <script>\n",
              "      (() => {\n",
              "      const buttonEl =\n",
              "        document.querySelector('#id_5cb2a451-83b3-49fa-a2f6-2524c4f0c73b button.colab-df-generate');\n",
              "      buttonEl.style.display =\n",
              "        google.colab.kernel.accessAllowed ? 'block' : 'none';\n",
              "\n",
              "      buttonEl.onclick = () => {\n",
              "        google.colab.notebook.generateWithVariable('dfa');\n",
              "      }\n",
              "      })();\n",
              "    </script>\n",
              "  </div>\n",
              "\n",
              "    </div>\n",
              "  </div>\n"
            ],
            "application/vnd.google.colaboratory.intrinsic+json": {
              "type": "dataframe",
              "variable_name": "dfa",
              "summary": "{\n  \"name\": \"dfa\",\n  \"rows\": 3337,\n  \"fields\": [\n    {\n      \"column\": \"Fecha Alta\",\n      \"properties\": {\n        \"dtype\": \"object\",\n        \"num_unique_values\": 1137,\n        \"samples\": [\n          \"2006-04-22 00:00:00\",\n          \"2006-08-27 00:00:00\",\n          \"2004-11-01 00:00:00\"\n        ],\n        \"semantic_type\": \"\",\n        \"description\": \"\"\n      }\n    },\n    {\n      \"column\": \"Tipo\",\n      \"properties\": {\n        \"dtype\": \"category\",\n        \"num_unique_values\": 7,\n        \"samples\": [\n          \"Parking\",\n          \"Local\",\n          \"Piso\"\n        ],\n        \"semantic_type\": \"\",\n        \"description\": \"\"\n      }\n    },\n    {\n      \"column\": \"Operaci\\u00f3n\",\n      \"properties\": {\n        \"dtype\": \"category\",\n        \"num_unique_values\": 2,\n        \"samples\": [\n          \"Venta\",\n          \"Alquiler\"\n        ],\n        \"semantic_type\": \"\",\n        \"description\": \"\"\n      }\n    },\n    {\n      \"column\": \"Provincia\",\n      \"properties\": {\n        \"dtype\": \"category\",\n        \"num_unique_values\": 4,\n        \"samples\": [\n          \"Girona\",\n          \"Barcelona\"\n        ],\n        \"semantic_type\": \"\",\n        \"description\": \"\"\n      }\n    },\n    {\n      \"column\": \"Superficie\",\n      \"properties\": {\n        \"dtype\": \"number\",\n        \"std\": 75.33235119435547,\n        \"min\": 40.0,\n        \"max\": 300.0,\n        \"num_unique_values\": 261,\n        \"samples\": [\n          140.0,\n          263.0\n        ],\n        \"semantic_type\": \"\",\n        \"description\": \"\"\n      }\n    },\n    {\n      \"column\": \"Precio Venta\",\n      \"properties\": {\n        \"dtype\": \"number\",\n        \"std\": 622690.280855736,\n        \"min\": 163920.0,\n        \"max\": 2977318.0,\n        \"num_unique_values\": 3312,\n        \"samples\": [\n          239220.0,\n          662316.0\n        ],\n        \"semantic_type\": \"\",\n        \"description\": \"\"\n      }\n    },\n    {\n      \"column\": \"Fecha Venta\",\n      \"properties\": {\n        \"dtype\": \"object\",\n        \"num_unique_values\": 990,\n        \"samples\": [\n          \"2005-01-28 00:00:00\",\n          \"2005-08-10 00:00:00\"\n        ],\n        \"semantic_type\": \"\",\n        \"description\": \"\"\n      }\n    },\n    {\n      \"column\": \"Vendedor\",\n      \"properties\": {\n        \"dtype\": \"category\",\n        \"num_unique_values\": 6,\n        \"samples\": [\n          \"Carmen\",\n          \"Pedro\"\n        ],\n        \"semantic_type\": \"\",\n        \"description\": \"\"\n      }\n    }\n  ]\n}"
            }
          },
          "metadata": {},
          "execution_count": 18
        }
      ]
    },
    {
      "cell_type": "code",
      "source": [
        "#b) Todos las registros de “Fecha Alta : igual a 2007-04-29 00:00:00 y a 2004-01-02 00:00:00\n",
        "df_b = df[(df['Fecha Alta'] == \"2007-04-29 00:00:00\") | (df['Fecha Alta'] == \"2004-01-02 00:00:00\")]\n",
        "print(df_b)"
      ],
      "metadata": {
        "collapsed": true,
        "colab": {
          "base_uri": "https://localhost:8080/"
        },
        "id": "1XQUdXpPN8tv",
        "outputId": "cc7077ce-8391-4e9c-8c3b-0f8b482cbc0c"
      },
      "execution_count": 19,
      "outputs": [
        {
          "output_type": "stream",
          "name": "stdout",
          "text": [
            "         0  Referencia           Fecha Alta        Tipo Operación  Provincia  \\\n",
            "3        4           4  2004-01-02 00:00:00     Parking  Alquiler     Girona   \n",
            "4        5           5  2004-01-02 00:00:00       Suelo     Venta  Tarragona   \n",
            "3331  3332        3332  2007-04-29 00:00:00     Oficina     Venta     Lleida   \n",
            "3332  3333        3333  2007-04-29 00:00:00  Industrial  Alquiler     Lleida   \n",
            "3333  3334        3334  2007-04-29 00:00:00        Piso  Alquiler     Girona   \n",
            "\n",
            "      Superficie  Precio Venta          Fecha Venta Vendedor  \n",
            "3          285.0           NaN  2004-04-27 00:00:00    Jesús  \n",
            "4          152.0      185000.0  2004-07-10 00:00:00    María  \n",
            "3331       190.0     1031320.0                  NaN      NaN  \n",
            "3332       221.0     1450644.0                  NaN      NaN  \n",
            "3333        55.0      454080.0                  NaN      NaN  \n"
          ]
        }
      ]
    },
    {
      "cell_type": "code",
      "source": [
        "#c) Todos los registros de “ Tipo: parking, local, industrial y piso”\n",
        "df_c = df[(df['Tipo'] == \"Parking\") | (df['Tipo'] == \"Local\") | (df['Tipo'] == \"Industrial\") | (df['Tipo'] == \"Piso\")]\n",
        "print(df_c)"
      ],
      "metadata": {
        "collapsed": true,
        "colab": {
          "base_uri": "https://localhost:8080/"
        },
        "id": "o10utehvO76p",
        "outputId": "375f70fe-11c2-4453-fc33-9e05a7dba721"
      },
      "execution_count": null,
      "outputs": [
        {
          "output_type": "stream",
          "name": "stdout",
          "text": [
            "               Fecha Alta        Tipo Operación  Provincia  Superficie  \\\n",
            "0     2004-01-01 00:00:00     Parking  Alquiler     Lleida       291.0   \n",
            "1     2004-01-01 00:00:00       Local     Venta     Girona       185.0   \n",
            "3     2004-01-02 00:00:00     Parking  Alquiler     Girona       285.0   \n",
            "5     2004-01-03 00:00:00  Industrial  Alquiler     Girona       131.0   \n",
            "8     2004-01-04 00:00:00        Piso  Alquiler     Lleida       108.0   \n",
            "...                   ...         ...       ...        ...         ...   \n",
            "3330  2007-04-27 00:00:00       Local     Venta     Girona       110.0   \n",
            "3332  2007-04-29 00:00:00  Industrial  Alquiler     Lleida       221.0   \n",
            "3333  2007-04-29 00:00:00        Piso  Alquiler     Girona        55.0   \n",
            "3335  2007-04-30 00:00:00        Piso  Alquiler  Barcelona        88.0   \n",
            "3336  2007-04-30 00:00:00     Parking     Venta     Lleida         NaN   \n",
            "\n",
            "      Precio Venta          Fecha Venta Vendedor  \n",
            "0        2133903.0  2004-06-19 00:00:00   Carmen  \n",
            "1        1945424.0  2004-04-19 00:00:00    Pedro  \n",
            "3              NaN  2004-04-27 00:00:00    Jesús  \n",
            "5         953156.0  2004-09-05 00:00:00    Pedro  \n",
            "8        1024380.0  2004-12-28 00:00:00    Jesús  \n",
            "...            ...                  ...      ...  \n",
            "3330      845790.0                  NaN      NaN  \n",
            "3332     1450644.0                  NaN      NaN  \n",
            "3333      454080.0                  NaN      NaN  \n",
            "3335      397408.0                  NaN      NaN  \n",
            "3336     2140712.0                  NaN      NaN  \n",
            "\n",
            "[1939 rows x 8 columns]\n"
          ]
        }
      ]
    },
    {
      "cell_type": "code",
      "source": [
        "#d) Todos los registros con “Provincia” igual a “Girona” y con “Superficie” mayor a “100”\n",
        "df_d= df[(df['Provincia'] == 'Girona') & (df['Superficie'] > 100)]\n",
        "print(df_d)"
      ],
      "metadata": {
        "colab": {
          "base_uri": "https://localhost:8080/"
        },
        "collapsed": true,
        "id": "dQMWFes2PDRA",
        "outputId": "de9b0cd7-25d7-4f88-8877-3eb80ff3095e"
      },
      "execution_count": null,
      "outputs": [
        {
          "output_type": "stream",
          "name": "stdout",
          "text": [
            "               Fecha Alta        Tipo Operación Provincia  Superficie  \\\n",
            "1     2004-01-01 00:00:00       Local     Venta    Girona       185.0   \n",
            "3     2004-01-02 00:00:00     Parking  Alquiler    Girona       285.0   \n",
            "5     2004-01-03 00:00:00  Industrial  Alquiler    Girona       131.0   \n",
            "7     2004-01-03 00:00:00     Oficina     Venta    Girona       235.0   \n",
            "10    2004-01-04 00:00:00     Oficina  Alquiler    Girona       124.0   \n",
            "...                   ...         ...       ...       ...         ...   \n",
            "3299  2007-04-12 00:00:00       Local  Alquiler    Girona       156.0   \n",
            "3303  2007-04-12 00:00:00        Piso     Venta    Girona       128.0   \n",
            "3306  2007-04-14 00:00:00     Parking     Venta    Girona       221.0   \n",
            "3316  2007-04-20 00:00:00        Casa     Venta    Girona       247.0   \n",
            "3330  2007-04-27 00:00:00       Local     Venta    Girona       110.0   \n",
            "\n",
            "      Precio Venta          Fecha Venta Vendedor  \n",
            "1        1945424.0  2004-04-19 00:00:00    Pedro  \n",
            "3              NaN  2004-04-27 00:00:00    Jesús  \n",
            "5         953156.0  2004-09-05 00:00:00    Pedro  \n",
            "7        2158475.0  2004-10-31 00:00:00    Jesús  \n",
            "10        627068.0  2004-10-28 00:00:00    Pedro  \n",
            "...            ...                  ...      ...  \n",
            "3299      881868.0                  NaN      NaN  \n",
            "3303     1270400.0                  NaN      NaN  \n",
            "3306     1533077.0                  NaN      NaN  \n",
            "3316     1804088.0                  NaN      NaN  \n",
            "3330      845790.0                  NaN      NaN  \n",
            "\n",
            "[651 rows x 8 columns]\n"
          ]
        }
      ]
    },
    {
      "cell_type": "code",
      "source": [
        "#e) Todos los registros con “Precio Venta: mayor a 1000,000” o “vendedor” igual a “Carmen o Joaquin”\n",
        "df_e = df[(df['Precio Venta'] > 1000000) | (df['Vendedor'] == 'Carmen') | (df['Vendedor'] == 'Joaquin')]\n",
        "print(df_e)\n"
      ],
      "metadata": {
        "colab": {
          "base_uri": "https://localhost:8080/"
        },
        "collapsed": true,
        "id": "jhL0x8-DPFr6",
        "outputId": "b37c980e-ec54-4f58-8410-d8a8598f1eb6"
      },
      "execution_count": null,
      "outputs": [
        {
          "output_type": "stream",
          "name": "stdout",
          "text": [
            "               Fecha Alta        Tipo Operación  Provincia  Superficie  \\\n",
            "0     2004-01-01 00:00:00     Parking  Alquiler     Lleida       291.0   \n",
            "1     2004-01-01 00:00:00       Local     Venta     Girona       185.0   \n",
            "7     2004-01-03 00:00:00     Oficina     Venta     Girona       235.0   \n",
            "8     2004-01-04 00:00:00        Piso  Alquiler     Lleida       108.0   \n",
            "9     2004-01-04 00:00:00     Parking     Venta     Lleida       299.0   \n",
            "...                   ...         ...       ...        ...         ...   \n",
            "3325  2007-04-25 00:00:00  Industrial  Alquiler        NaN       296.0   \n",
            "3328  2007-04-26 00:00:00        Piso     Venta  Barcelona       264.0   \n",
            "3331  2007-04-29 00:00:00     Oficina     Venta     Lleida       190.0   \n",
            "3332  2007-04-29 00:00:00  Industrial  Alquiler     Lleida       221.0   \n",
            "3336  2007-04-30 00:00:00     Parking     Venta     Lleida         NaN   \n",
            "\n",
            "      Precio Venta          Fecha Venta Vendedor  \n",
            "0        2133903.0  2004-06-19 00:00:00   Carmen  \n",
            "1        1945424.0  2004-04-19 00:00:00    Pedro  \n",
            "7        2158475.0  2004-10-31 00:00:00    Jesús  \n",
            "8        1024380.0  2004-12-28 00:00:00    Jesús  \n",
            "9        2042768.0  2004-10-06 00:00:00  Joaquín  \n",
            "...            ...                  ...      ...  \n",
            "3325     2078216.0                  NaN      NaN  \n",
            "3328     2517504.0                  NaN      NaN  \n",
            "3331     1031320.0                  NaN      NaN  \n",
            "3332     1450644.0                  NaN      NaN  \n",
            "3336     2140712.0                  NaN      NaN  \n",
            "\n",
            "[2099 rows x 8 columns]\n"
          ]
        }
      ]
    },
    {
      "cell_type": "code",
      "source": [
        "#f) Todos los registros que no sean de “Provincia : Barcelona“\n",
        "df_f= df[~(df['Provincia'] == 'Barcelona')]\n",
        "print(df_f)"
      ],
      "metadata": {
        "collapsed": true,
        "colab": {
          "base_uri": "https://localhost:8080/"
        },
        "id": "u-D5dY_OPH06",
        "outputId": "fa31248c-a80a-4110-c1e1-5d0a71929959"
      },
      "execution_count": null,
      "outputs": [
        {
          "output_type": "stream",
          "name": "stdout",
          "text": [
            "               Fecha Alta        Tipo Operación  Provincia  Superficie  \\\n",
            "0     2004-01-01 00:00:00     Parking  Alquiler     Lleida       291.0   \n",
            "1     2004-01-01 00:00:00       Local     Venta     Girona       185.0   \n",
            "2     2004-01-01 00:00:00     Oficina  Alquiler     Girona        82.0   \n",
            "3     2004-01-02 00:00:00     Parking  Alquiler     Girona       285.0   \n",
            "4     2004-01-02 00:00:00       Suelo     Venta  Tarragona       152.0   \n",
            "...                   ...         ...       ...        ...         ...   \n",
            "3331  2007-04-29 00:00:00     Oficina     Venta     Lleida       190.0   \n",
            "3332  2007-04-29 00:00:00  Industrial  Alquiler     Lleida       221.0   \n",
            "3333  2007-04-29 00:00:00        Piso  Alquiler     Girona        55.0   \n",
            "3334  2007-04-30 00:00:00       Suelo     Venta  Tarragona        78.0   \n",
            "3336  2007-04-30 00:00:00     Parking     Venta     Lleida         NaN   \n",
            "\n",
            "      Precio Venta          Fecha Venta Vendedor  \n",
            "0        2133903.0  2004-06-19 00:00:00   Carmen  \n",
            "1        1945424.0  2004-04-19 00:00:00    Pedro  \n",
            "2              NaN  2004-11-08 00:00:00  Joaquín  \n",
            "3              NaN  2004-04-27 00:00:00    Jesús  \n",
            "4         185000.0  2004-07-10 00:00:00    María  \n",
            "...            ...                  ...      ...  \n",
            "3331     1031320.0                  NaN      NaN  \n",
            "3332     1450644.0                  NaN      NaN  \n",
            "3333      454080.0                  NaN      NaN  \n",
            "3334      740688.0                  NaN      NaN  \n",
            "3336     2140712.0                  NaN      NaN  \n",
            "\n",
            "[2503 rows x 8 columns]\n"
          ]
        }
      ]
    },
    {
      "cell_type": "code",
      "source": [
        "#g)Todos los registros que no sean de “Operación: alquiler “ ni “Tipo: oficina“\n",
        "df_g= df[~(df['Operación'] == 'alquiler') & ~(df['Tipo'] == 'oficina')]\n",
        "print(df_g)"
      ],
      "metadata": {
        "collapsed": true,
        "colab": {
          "base_uri": "https://localhost:8080/"
        },
        "id": "l_onW3j7PJu0",
        "outputId": "79f1c51a-53f9-448d-e21f-5210e08a8038"
      },
      "execution_count": null,
      "outputs": [
        {
          "output_type": "stream",
          "name": "stdout",
          "text": [
            "               Fecha Alta        Tipo Operación  Provincia  Superficie  \\\n",
            "0     2004-01-01 00:00:00     Parking  Alquiler     Lleida       291.0   \n",
            "1     2004-01-01 00:00:00       Local     Venta     Girona       185.0   \n",
            "2     2004-01-01 00:00:00     Oficina  Alquiler     Girona        82.0   \n",
            "3     2004-01-02 00:00:00     Parking  Alquiler     Girona       285.0   \n",
            "4     2004-01-02 00:00:00       Suelo     Venta  Tarragona       152.0   \n",
            "...                   ...         ...       ...        ...         ...   \n",
            "3332  2007-04-29 00:00:00  Industrial  Alquiler     Lleida       221.0   \n",
            "3333  2007-04-29 00:00:00        Piso  Alquiler     Girona        55.0   \n",
            "3334  2007-04-30 00:00:00       Suelo     Venta  Tarragona        78.0   \n",
            "3335  2007-04-30 00:00:00        Piso  Alquiler  Barcelona        88.0   \n",
            "3336  2007-04-30 00:00:00     Parking     Venta     Lleida         NaN   \n",
            "\n",
            "      Precio Venta          Fecha Venta Vendedor  \n",
            "0        2133903.0  2004-06-19 00:00:00   Carmen  \n",
            "1        1945424.0  2004-04-19 00:00:00    Pedro  \n",
            "2              NaN  2004-11-08 00:00:00  Joaquín  \n",
            "3              NaN  2004-04-27 00:00:00    Jesús  \n",
            "4         185000.0  2004-07-10 00:00:00    María  \n",
            "...            ...                  ...      ...  \n",
            "3332     1450644.0                  NaN      NaN  \n",
            "3333      454080.0                  NaN      NaN  \n",
            "3334      740688.0                  NaN      NaN  \n",
            "3335      397408.0                  NaN      NaN  \n",
            "3336     2140712.0                  NaN      NaN  \n",
            "\n",
            "[3337 rows x 8 columns]\n"
          ]
        }
      ]
    },
    {
      "cell_type": "code",
      "source": [
        "df_b.to_csv(\"df_b.csv\")\n",
        "from google.colab import files\n",
        "\n",
        "\n",
        "files.download(\"df_b.csv\")"
      ],
      "metadata": {
        "id": "m9Ic9ooJPS7D",
        "colab": {
          "base_uri": "https://localhost:8080/",
          "height": 17
        },
        "outputId": "da45e969-cc22-4a3e-daa5-6ede8a2ee30c"
      },
      "execution_count": 20,
      "outputs": [
        {
          "output_type": "display_data",
          "data": {
            "text/plain": [
              "<IPython.core.display.Javascript object>"
            ],
            "application/javascript": [
              "\n",
              "    async function download(id, filename, size) {\n",
              "      if (!google.colab.kernel.accessAllowed) {\n",
              "        return;\n",
              "      }\n",
              "      const div = document.createElement('div');\n",
              "      const label = document.createElement('label');\n",
              "      label.textContent = `Downloading \"${filename}\": `;\n",
              "      div.appendChild(label);\n",
              "      const progress = document.createElement('progress');\n",
              "      progress.max = size;\n",
              "      div.appendChild(progress);\n",
              "      document.body.appendChild(div);\n",
              "\n",
              "      const buffers = [];\n",
              "      let downloaded = 0;\n",
              "\n",
              "      const channel = await google.colab.kernel.comms.open(id);\n",
              "      // Send a message to notify the kernel that we're ready.\n",
              "      channel.send({})\n",
              "\n",
              "      for await (const message of channel.messages) {\n",
              "        // Send a message to notify the kernel that we're ready.\n",
              "        channel.send({})\n",
              "        if (message.buffers) {\n",
              "          for (const buffer of message.buffers) {\n",
              "            buffers.push(buffer);\n",
              "            downloaded += buffer.byteLength;\n",
              "            progress.value = downloaded;\n",
              "          }\n",
              "        }\n",
              "      }\n",
              "      const blob = new Blob(buffers, {type: 'application/binary'});\n",
              "      const a = document.createElement('a');\n",
              "      a.href = window.URL.createObjectURL(blob);\n",
              "      a.download = filename;\n",
              "      div.appendChild(a);\n",
              "      a.click();\n",
              "      div.remove();\n",
              "    }\n",
              "  "
            ]
          },
          "metadata": {}
        },
        {
          "output_type": "display_data",
          "data": {
            "text/plain": [
              "<IPython.core.display.Javascript object>"
            ],
            "application/javascript": [
              "download(\"download_0a585131-c524-4501-9a49-4d967b11e3b9\", \"df_b.csv\", 496)"
            ]
          },
          "metadata": {}
        }
      ]
    },
    {
      "cell_type": "code",
      "source": [
        "df_c.to_csv(\"df_c.csv\")\n",
        "from google.colab import files\n",
        "\n",
        "\n",
        "files.download(\"df_c.csv\")"
      ],
      "metadata": {
        "id": "Un1T2OSIPUgc",
        "colab": {
          "base_uri": "https://localhost:8080/",
          "height": 17
        },
        "outputId": "1c79e595-d1fe-47b4-f3b1-382700c24692"
      },
      "execution_count": 21,
      "outputs": [
        {
          "output_type": "display_data",
          "data": {
            "text/plain": [
              "<IPython.core.display.Javascript object>"
            ],
            "application/javascript": [
              "\n",
              "    async function download(id, filename, size) {\n",
              "      if (!google.colab.kernel.accessAllowed) {\n",
              "        return;\n",
              "      }\n",
              "      const div = document.createElement('div');\n",
              "      const label = document.createElement('label');\n",
              "      label.textContent = `Downloading \"${filename}\": `;\n",
              "      div.appendChild(label);\n",
              "      const progress = document.createElement('progress');\n",
              "      progress.max = size;\n",
              "      div.appendChild(progress);\n",
              "      document.body.appendChild(div);\n",
              "\n",
              "      const buffers = [];\n",
              "      let downloaded = 0;\n",
              "\n",
              "      const channel = await google.colab.kernel.comms.open(id);\n",
              "      // Send a message to notify the kernel that we're ready.\n",
              "      channel.send({})\n",
              "\n",
              "      for await (const message of channel.messages) {\n",
              "        // Send a message to notify the kernel that we're ready.\n",
              "        channel.send({})\n",
              "        if (message.buffers) {\n",
              "          for (const buffer of message.buffers) {\n",
              "            buffers.push(buffer);\n",
              "            downloaded += buffer.byteLength;\n",
              "            progress.value = downloaded;\n",
              "          }\n",
              "        }\n",
              "      }\n",
              "      const blob = new Blob(buffers, {type: 'application/binary'});\n",
              "      const a = document.createElement('a');\n",
              "      a.href = window.URL.createObjectURL(blob);\n",
              "      a.download = filename;\n",
              "      div.appendChild(a);\n",
              "      a.click();\n",
              "      div.remove();\n",
              "    }\n",
              "  "
            ]
          },
          "metadata": {}
        },
        {
          "output_type": "display_data",
          "data": {
            "text/plain": [
              "<IPython.core.display.Javascript object>"
            ],
            "application/javascript": [
              "download(\"download_edd14fa0-aa6d-471b-b159-7de78df5b543\", \"df_c.csv\", 167016)"
            ]
          },
          "metadata": {}
        }
      ]
    },
    {
      "cell_type": "code",
      "source": [
        "df_d.to_csv(\"df_d.csv\")\n",
        "from google.colab import files\n",
        "\n",
        "\n",
        "files.download(\"df_d.csv\")"
      ],
      "metadata": {
        "id": "Q3PbYRlSPWVP",
        "colab": {
          "base_uri": "https://localhost:8080/",
          "height": 17
        },
        "outputId": "4b83eba6-9cfd-4af8-8ad0-59b35753a53d"
      },
      "execution_count": 22,
      "outputs": [
        {
          "output_type": "display_data",
          "data": {
            "text/plain": [
              "<IPython.core.display.Javascript object>"
            ],
            "application/javascript": [
              "\n",
              "    async function download(id, filename, size) {\n",
              "      if (!google.colab.kernel.accessAllowed) {\n",
              "        return;\n",
              "      }\n",
              "      const div = document.createElement('div');\n",
              "      const label = document.createElement('label');\n",
              "      label.textContent = `Downloading \"${filename}\": `;\n",
              "      div.appendChild(label);\n",
              "      const progress = document.createElement('progress');\n",
              "      progress.max = size;\n",
              "      div.appendChild(progress);\n",
              "      document.body.appendChild(div);\n",
              "\n",
              "      const buffers = [];\n",
              "      let downloaded = 0;\n",
              "\n",
              "      const channel = await google.colab.kernel.comms.open(id);\n",
              "      // Send a message to notify the kernel that we're ready.\n",
              "      channel.send({})\n",
              "\n",
              "      for await (const message of channel.messages) {\n",
              "        // Send a message to notify the kernel that we're ready.\n",
              "        channel.send({})\n",
              "        if (message.buffers) {\n",
              "          for (const buffer of message.buffers) {\n",
              "            buffers.push(buffer);\n",
              "            downloaded += buffer.byteLength;\n",
              "            progress.value = downloaded;\n",
              "          }\n",
              "        }\n",
              "      }\n",
              "      const blob = new Blob(buffers, {type: 'application/binary'});\n",
              "      const a = document.createElement('a');\n",
              "      a.href = window.URL.createObjectURL(blob);\n",
              "      a.download = filename;\n",
              "      div.appendChild(a);\n",
              "      a.click();\n",
              "      div.remove();\n",
              "    }\n",
              "  "
            ]
          },
          "metadata": {}
        },
        {
          "output_type": "display_data",
          "data": {
            "text/plain": [
              "<IPython.core.display.Javascript object>"
            ],
            "application/javascript": [
              "download(\"download_fd9d4aef-86b1-4e8c-87ca-e9de9c0c5be1\", \"df_d.csv\", 55114)"
            ]
          },
          "metadata": {}
        }
      ]
    },
    {
      "cell_type": "code",
      "source": [
        "df_e.to_csv(\"df_e.csv\")\n",
        "from google.colab import files\n",
        "\n",
        "\n",
        "files.download(\"df_e.csv\")"
      ],
      "metadata": {
        "id": "GZ_Utc1RPagg",
        "colab": {
          "base_uri": "https://localhost:8080/",
          "height": 17
        },
        "outputId": "be868f81-a1d4-4759-d313-088e39b3df18"
      },
      "execution_count": 23,
      "outputs": [
        {
          "output_type": "display_data",
          "data": {
            "text/plain": [
              "<IPython.core.display.Javascript object>"
            ],
            "application/javascript": [
              "\n",
              "    async function download(id, filename, size) {\n",
              "      if (!google.colab.kernel.accessAllowed) {\n",
              "        return;\n",
              "      }\n",
              "      const div = document.createElement('div');\n",
              "      const label = document.createElement('label');\n",
              "      label.textContent = `Downloading \"${filename}\": `;\n",
              "      div.appendChild(label);\n",
              "      const progress = document.createElement('progress');\n",
              "      progress.max = size;\n",
              "      div.appendChild(progress);\n",
              "      document.body.appendChild(div);\n",
              "\n",
              "      const buffers = [];\n",
              "      let downloaded = 0;\n",
              "\n",
              "      const channel = await google.colab.kernel.comms.open(id);\n",
              "      // Send a message to notify the kernel that we're ready.\n",
              "      channel.send({})\n",
              "\n",
              "      for await (const message of channel.messages) {\n",
              "        // Send a message to notify the kernel that we're ready.\n",
              "        channel.send({})\n",
              "        if (message.buffers) {\n",
              "          for (const buffer of message.buffers) {\n",
              "            buffers.push(buffer);\n",
              "            downloaded += buffer.byteLength;\n",
              "            progress.value = downloaded;\n",
              "          }\n",
              "        }\n",
              "      }\n",
              "      const blob = new Blob(buffers, {type: 'application/binary'});\n",
              "      const a = document.createElement('a');\n",
              "      a.href = window.URL.createObjectURL(blob);\n",
              "      a.download = filename;\n",
              "      div.appendChild(a);\n",
              "      a.click();\n",
              "      div.remove();\n",
              "    }\n",
              "  "
            ]
          },
          "metadata": {}
        },
        {
          "output_type": "display_data",
          "data": {
            "text/plain": [
              "<IPython.core.display.Javascript object>"
            ],
            "application/javascript": [
              "download(\"download_3960df78-6c85-41c3-ab72-a3a45aac8d73\", \"df_e.csv\", 181746)"
            ]
          },
          "metadata": {}
        }
      ]
    },
    {
      "cell_type": "code",
      "source": [
        "df_f.to_csv(\"df_f.csv\")\n",
        "from google.colab import files\n",
        "\n",
        "\n",
        "files.download(\"df_f.csv\")"
      ],
      "metadata": {
        "colab": {
          "base_uri": "https://localhost:8080/",
          "height": 17
        },
        "id": "05dq0cgMPjB-",
        "outputId": "86273bc0-55b8-4f6f-e455-18a1fd02241b"
      },
      "execution_count": 24,
      "outputs": [
        {
          "output_type": "display_data",
          "data": {
            "text/plain": [
              "<IPython.core.display.Javascript object>"
            ],
            "application/javascript": [
              "\n",
              "    async function download(id, filename, size) {\n",
              "      if (!google.colab.kernel.accessAllowed) {\n",
              "        return;\n",
              "      }\n",
              "      const div = document.createElement('div');\n",
              "      const label = document.createElement('label');\n",
              "      label.textContent = `Downloading \"${filename}\": `;\n",
              "      div.appendChild(label);\n",
              "      const progress = document.createElement('progress');\n",
              "      progress.max = size;\n",
              "      div.appendChild(progress);\n",
              "      document.body.appendChild(div);\n",
              "\n",
              "      const buffers = [];\n",
              "      let downloaded = 0;\n",
              "\n",
              "      const channel = await google.colab.kernel.comms.open(id);\n",
              "      // Send a message to notify the kernel that we're ready.\n",
              "      channel.send({})\n",
              "\n",
              "      for await (const message of channel.messages) {\n",
              "        // Send a message to notify the kernel that we're ready.\n",
              "        channel.send({})\n",
              "        if (message.buffers) {\n",
              "          for (const buffer of message.buffers) {\n",
              "            buffers.push(buffer);\n",
              "            downloaded += buffer.byteLength;\n",
              "            progress.value = downloaded;\n",
              "          }\n",
              "        }\n",
              "      }\n",
              "      const blob = new Blob(buffers, {type: 'application/binary'});\n",
              "      const a = document.createElement('a');\n",
              "      a.href = window.URL.createObjectURL(blob);\n",
              "      a.download = filename;\n",
              "      div.appendChild(a);\n",
              "      a.click();\n",
              "      div.remove();\n",
              "    }\n",
              "  "
            ]
          },
          "metadata": {}
        },
        {
          "output_type": "display_data",
          "data": {
            "text/plain": [
              "<IPython.core.display.Javascript object>"
            ],
            "application/javascript": [
              "download(\"download_9367d81b-cf18-4038-99bb-c58a095f6df6\", \"df_f.csv\", 212978)"
            ]
          },
          "metadata": {}
        }
      ]
    },
    {
      "cell_type": "code",
      "source": [
        "df_g.to_csv(\"df_g.csv\")\n",
        "from google.colab import files\n",
        "\n",
        "\n",
        "files.download(\"df_g.csv\")"
      ],
      "metadata": {
        "colab": {
          "base_uri": "https://localhost:8080/",
          "height": 17
        },
        "id": "M7VFtd1ePlJs",
        "outputId": "b6551ddc-b437-4a79-d53d-8e5c3b7442d0"
      },
      "execution_count": 25,
      "outputs": [
        {
          "output_type": "display_data",
          "data": {
            "text/plain": [
              "<IPython.core.display.Javascript object>"
            ],
            "application/javascript": [
              "\n",
              "    async function download(id, filename, size) {\n",
              "      if (!google.colab.kernel.accessAllowed) {\n",
              "        return;\n",
              "      }\n",
              "      const div = document.createElement('div');\n",
              "      const label = document.createElement('label');\n",
              "      label.textContent = `Downloading \"${filename}\": `;\n",
              "      div.appendChild(label);\n",
              "      const progress = document.createElement('progress');\n",
              "      progress.max = size;\n",
              "      div.appendChild(progress);\n",
              "      document.body.appendChild(div);\n",
              "\n",
              "      const buffers = [];\n",
              "      let downloaded = 0;\n",
              "\n",
              "      const channel = await google.colab.kernel.comms.open(id);\n",
              "      // Send a message to notify the kernel that we're ready.\n",
              "      channel.send({})\n",
              "\n",
              "      for await (const message of channel.messages) {\n",
              "        // Send a message to notify the kernel that we're ready.\n",
              "        channel.send({})\n",
              "        if (message.buffers) {\n",
              "          for (const buffer of message.buffers) {\n",
              "            buffers.push(buffer);\n",
              "            downloaded += buffer.byteLength;\n",
              "            progress.value = downloaded;\n",
              "          }\n",
              "        }\n",
              "      }\n",
              "      const blob = new Blob(buffers, {type: 'application/binary'});\n",
              "      const a = document.createElement('a');\n",
              "      a.href = window.URL.createObjectURL(blob);\n",
              "      a.download = filename;\n",
              "      div.appendChild(a);\n",
              "      a.click();\n",
              "      div.remove();\n",
              "    }\n",
              "  "
            ]
          },
          "metadata": {}
        },
        {
          "output_type": "display_data",
          "data": {
            "text/plain": [
              "<IPython.core.display.Javascript object>"
            ],
            "application/javascript": [
              "download(\"download_aa3579bd-cdd8-4f4f-915d-e5570c124e1e\", \"df_g.csv\", 285900)"
            ]
          },
          "metadata": {}
        }
      ]
    }
  ]
}